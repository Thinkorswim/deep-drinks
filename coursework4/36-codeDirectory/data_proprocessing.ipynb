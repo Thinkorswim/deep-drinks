{
 "cells": [
  {
   "cell_type": "code",
   "execution_count": 1,
   "metadata": {},
   "outputs": [],
   "source": [
    "%load_ext autoreload\n",
    "%autoreload 2"
   ]
  },
  {
   "cell_type": "code",
   "execution_count": 2,
   "metadata": {},
   "outputs": [],
   "source": [
    "from helpers import *\n",
    "import numpy as np"
   ]
  },
  {
   "cell_type": "code",
   "execution_count": 8,
   "metadata": {},
   "outputs": [
    {
     "name": "stdout",
     "output_type": "stream",
     "text": [
      "There are 215 recipes in the database.\n"
     ]
    }
   ],
   "source": [
    "data = [\n",
    "    'data/social_cocktail.json', \n",
    "    'data/liquor.json'\n",
    "]\n",
    "\n",
    "descriptions, names = [], []\n",
    "\n",
    "for d in data:\n",
    "    descriptions += load_data(d, field='description')\n",
    "    names += load_data(d, field='name')\n",
    "\n",
    "print('There are {} recipes in the database.'.format(len(descriptions)))"
   ]
  },
  {
   "cell_type": "code",
   "execution_count": 9,
   "metadata": {},
   "outputs": [],
   "source": [
    "descriptions = [clean_string(x) for x in descriptions]\n",
    "X_desc = flatten_list(descriptions)\n",
    "\n",
    "names = [clean_string(x) for x in names]\n",
    "X_names = flatten_list(names)"
   ]
  },
  {
   "cell_type": "code",
   "execution_count": 10,
   "metadata": {},
   "outputs": [
    {
     "name": "stdout",
     "output_type": "stream",
     "text": [
      "['add the ingredients to a rocks glass filled with ice and stir', 'add all the ingredients to a mixing glass muddle to break down the sugar and stir briefly fill with ice stir again and strain into a rocks glass filled with fresh ice twist slices of lemon and orange peel over the drink and drop them in', 'rinse a chilled rocks glass with absinthe discarding any excess and set aside in a mixing glass muddle the sugar cube and both bitters add the rye fill with ice and stir strain into the prepared glass twist a slice of lemon peel over the surface to extract the oils and then discard', 'in a julep cup or rocks glass lightly muddle the mint and syrup add the bourbon and pack tightly with crushed ice stir until the cup is frosted on the outside top with more crushed ice to form an ice dome and garnish with a few drops of bitters if desired and a mint sprig', 'add all the ingredients to a mixing glass filled with ice and stir strain into a chilled cocktail glass and garnish with a cherry', 'in a shaker muddle the lemon add the remaining ingredients and fill with ice shake and double strain into a rocks glass filled with crushed ice or one large ice chunk slap a mint sprig between your hands and use as garnish serve with a straw', 'add all the ingredients to a shaker and fill with ice shake and strain into a chilled coupe or cocktail glass garnish with an orange peel', 'add all the ingredients to a mixing glass and fill with ice stir and strain into a chilled cocktail glass garnish with a cherry', 'add the tequila and lime juice to a highball glass filled with ice fill with grapefruit soda and stir briefly', 'in a large bowl beat together the egg yolks and half a cup of sugar until they turn light in color stir in the milk heavy cream bourbon and rum in a separate bowl beat the egg whites with the remaining quarter cup of sugar until they form soft peaks fold about a third of the egg whites into the yolk mixture serve in punch or tea cups topped with freshly grated nutmeg folding in more of the egg whites as desired'] ['vesper', 'french 65', 'dubonnet and champagne']\n"
     ]
    }
   ],
   "source": [
    "print(descriptions[100:110], names[0:3])"
   ]
  },
  {
   "cell_type": "code",
   "execution_count": 6,
   "metadata": {},
   "outputs": [
    {
     "name": "stdout",
     "output_type": "stream",
     "text": [
      "There are 31606 words with a vocabulary size of 1251.\n"
     ]
    }
   ],
   "source": [
    "X_desc_transformed, label_encoder, onehot_encoder = encode_categorical(X_desc)\n",
    "print('There are {} words with a vocabulary size of {}.'.format(*X_desc_transformed.shape))"
   ]
  },
  {
   "cell_type": "code",
   "execution_count": 7,
   "metadata": {},
   "outputs": [
    {
     "name": "stdout",
     "output_type": "stream",
     "text": [
      "Liberal Mule Bolo Delilah\n",
      "Bar Lava Caribbean\n",
      "Banana Up La\n",
      "Cane Belly Russian\n",
      "Cola Sea Whiskey\n"
     ]
    }
   ],
   "source": [
    "from name_generator import generate_name\n",
    "\n",
    "for i in range(5):\n",
    "    print(generate_name(X_names))"
   ]
  },
  {
   "cell_type": "code",
   "execution_count": null,
   "metadata": {},
   "outputs": [],
   "source": []
  }
 ],
 "metadata": {
  "kernelspec": {
   "display_name": "Python 3",
   "language": "python",
   "name": "python3"
  },
  "language_info": {
   "codemirror_mode": {
    "name": "ipython",
    "version": 3
   },
   "file_extension": ".py",
   "mimetype": "text/x-python",
   "name": "python",
   "nbconvert_exporter": "python",
   "pygments_lexer": "ipython3",
   "version": "3.6.3"
  }
 },
 "nbformat": 4,
 "nbformat_minor": 2
}
