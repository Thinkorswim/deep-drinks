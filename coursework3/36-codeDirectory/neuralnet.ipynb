{
 "cells": [
  {
   "cell_type": "code",
   "execution_count": 1,
   "metadata": {},
   "outputs": [],
   "source": [
    "%load_ext autoreload\n",
    "%autoreload 2"
   ]
  },
  {
   "cell_type": "code",
   "execution_count": 2,
   "metadata": {},
   "outputs": [],
   "source": [
    "from helpers import *\n",
    "import numpy as np"
   ]
  },
  {
   "cell_type": "code",
   "execution_count": 3,
   "metadata": {},
   "outputs": [
    {
     "name": "stdout",
     "output_type": "stream",
     "text": [
      "There are 1153 recipes in the database.\n"
     ]
    }
   ],
   "source": [
    "data = [ \n",
    "    'data/social_cocktail.json',\n",
    "    'data/liquor.json'\n",
    "]\n",
    "\n",
    "descriptions, names = [], []\n",
    "\n",
    "for d in data:\n",
    "    descriptions += load_data(d, field='description')\n",
    "    names += load_data(d, field='name')\n",
    "\n",
    "print('There are {} recipes in the database.'.format(len(descriptions)))"
   ]
  },
  {
   "cell_type": "code",
   "execution_count": 4,
   "metadata": {},
   "outputs": [],
   "source": [
    "descriptions = [clean_string(x) for x in descriptions]\n",
    "X_desc = flatten_list(descriptions)\n",
    "\n",
    "names = [clean_string(x) for x in names]\n",
    "X_names = flatten_list(names)"
   ]
  },
  {
   "cell_type": "code",
   "execution_count": 14,
   "metadata": {},
   "outputs": [
    {
     "name": "stdout",
     "output_type": "stream",
     "text": [
      "1266\n"
     ]
    }
   ],
   "source": [
    "t = set(X_desc)\n",
    "print(len(t))"
   ]
  },
  {
   "cell_type": "code",
   "execution_count": 5,
   "metadata": {
    "scrolled": false
   },
   "outputs": [
    {
     "name": "stdout",
     "output_type": "stream",
     "text": [
      "There are 31638 words with a vocabulary size of 700\n",
      "The sequence length is 15\n",
      "Observation shape is (31623, 15, 700), label shape is (31623, 700)\n"
     ]
    }
   ],
   "source": [
    "# Limit the vocabulary size\n",
    "vocabulary_size=700\n",
    "X_limit = limit_vocabulary(X_desc, vocabulary_size=vocabulary_size)\n",
    "\n",
    "# One-hot encode the data\n",
    "X_limit_transformed, label_encoder, onehot_encoder = encode_categorical(X_limit)\n",
    "print('There are {} words with a vocabulary size of {}'.format(*X_limit_transformed.shape))\n",
    "\n",
    "# Transform data into sequences and predictions\n",
    "seq_length = 15\n",
    "X, y = sequence_transform(X_limit_transformed, seq_length)\n",
    "print('The sequence length is {}'.format(seq_length))\n",
    "print('Observation shape is {}, label shape is {}'.format(X.shape, y.shape))"
   ]
  },
  {
   "cell_type": "code",
   "execution_count": 6,
   "metadata": {},
   "outputs": [
    {
     "name": "stdout",
     "output_type": "stream",
     "text": [
      "(30041, 15, 700) (30041, 700) (1582, 15, 700) (1582, 700)\n"
     ]
    }
   ],
   "source": [
    "N = X.shape[0]\n",
    "X_train, y_train = X[:int(N*0.95)], y[:int(N*0.95)]\n",
    "X_val, y_val = X[int(N*0.95):], y[int(N*0.95):]\n",
    "\n",
    "print(X_train.shape, y_train.shape, X_val.shape, y_val.shape)"
   ]
  },
  {
   "cell_type": "markdown",
   "metadata": {},
   "source": [
    "### Create the Neural Network Models"
   ]
  },
  {
   "cell_type": "code",
   "execution_count": 7,
   "metadata": {},
   "outputs": [
    {
     "name": "stderr",
     "output_type": "stream",
     "text": [
      "Using TensorFlow backend.\n"
     ]
    }
   ],
   "source": [
    "import numpy as np\n",
    "from keras.models import Sequential\n",
    "from keras.layers import Dense\n",
    "from keras.layers import Dropout\n",
    "from keras.layers import LSTM, GRU\n",
    "from keras.callbacks import ModelCheckpoint\n",
    "from keras.utils import np_utils\n",
    "from sklearn.model_selection import train_test_split"
   ]
  },
  {
   "cell_type": "code",
   "execution_count": 11,
   "metadata": {},
   "outputs": [
    {
     "name": "stdout",
     "output_type": "stream",
     "text": [
      "_________________________________________________________________\n",
      "Layer (type)                 Output Shape              Param #   \n",
      "=================================================================\n",
      "gru_1 (GRU)                  (None, 512)               1863168   \n",
      "_________________________________________________________________\n",
      "dense_2 (Dense)              (None, 700)               359100    \n",
      "=================================================================\n",
      "Total params: 2,222,268\n",
      "Trainable params: 2,222,268\n",
      "Non-trainable params: 0\n",
      "_________________________________________________________________\n",
      "None\n"
     ]
    }
   ],
   "source": [
    "model = Sequential()\n",
    "# model.add(Dense(512, input_dim=X.shape[1], activation='relu'))\n",
    "# model.add(Dense(256, input_dim=X.shape[1], activation='relu'))\n",
    "# model.add(Dense(128, activation='relu'))\n",
    "# model.add(Dense(64, activation='relu'))\n",
    "\n",
    "model.add(GRU(512, input_shape=(X.shape[1], X.shape[2]), activation='relu'))\n",
    "# model.add(Dropout(0.2))\n",
    "# model.add(GRU(128, input_shape=(X.shape[1], X.shape[2]), activation='relu'))\n",
    "# model.add(Dropout(0.2))\n",
    "model.add(Dense(y.shape[1], activation='softmax'))\n",
    "\n",
    "model.compile(loss='categorical_crossentropy', metrics=['categorical_accuracy'], optimizer='adam')\n",
    "print(model.summary())"
   ]
  },
  {
   "cell_type": "code",
   "execution_count": 12,
   "metadata": {
    "scrolled": false
   },
   "outputs": [
    {
     "name": "stdout",
     "output_type": "stream",
     "text": [
      "Train on 30041 samples, validate on 1582 samples\n",
      "Epoch 1/1\n",
      "30041/30041 [==============================] - 291s - loss: 3.5251 - categorical_accuracy: 0.3276 - val_loss: 3.5646 - val_categorical_accuracy: 0.3464\n"
     ]
    },
    {
     "data": {
      "text/plain": [
       "<keras.callbacks.History at 0x7f21a8cf6b00>"
      ]
     },
     "execution_count": 12,
     "metadata": {},
     "output_type": "execute_result"
    }
   ],
   "source": [
    "# Create the model\n",
    "batch_size = 32\n",
    "model.fit(X_train, y_train, validation_data=(X_val, y_val), epochs=1, batch_size=batch_size)"
   ]
  },
  {
   "cell_type": "code",
   "execution_count": 375,
   "metadata": {},
   "outputs": [
    {
     "name": "stdout",
     "output_type": "stream",
     "text": [
      "fill highball glass with ice and add tequila and salt . squeeze lime half into ['glass' 'along' 'liquid' '.' 'place' 'syrup' 'and' 'lime' 'liqueur'\n",
      " '.pour' 'and' 'coat' 'will' 'in' 'rocks' 'glass' '.' 'chill' 'overnight'\n",
      " '.' 'add' 'ginger' 'ale' 'and' 'cinnamon' '.' 'stir' 'gently' '.' '|'\n",
      " 'build' 'all' 'ingredients' 'into' 'glass' '.' 'add' 'ice' '.' 'stir'\n",
      " 'vigorously' 'for' '20' 'seconds' '.' 'garnish' 'with' 'lemon' 'wedge' '.'\n",
      " '|' 'pour' 'gin' 'bitters' 'and' 'grenadine' 'syrup' 'into' 'stout' 'to'\n",
      " 'churn' 'until' 'any' 'then' 'add' 'vodka' 'sugar' '.' 'taste' '.' '|'\n",
      " 'in' 'shaker' 'add' 'sugar' 'juice' 'and' 'rum' '.' 'add' 'remaining'\n",
      " 'ingredients' '.' 'shake' 'well' '.' 'double' 'strain' 'into' 'highball'\n",
      " 'glass' '.' 'top' 'up' 'with' 'soda' 'water' 'garnish' 'and' 'serve']\n"
     ]
    }
   ],
   "source": [
    "from helpers import *\n",
    "\n",
    "start = np.random.randint(0, len(X)-1)\n",
    "seed = ''\n",
    "\n",
    "for i in range(seq_length):\n",
    "    x = X[start, i].reshape(1, -1)\n",
    "    seed += reverse_encoding(x, label_encoder, onehot_encoder)[0] + ' '\n",
    "    \n",
    "seed = seed.strip()\n",
    "observation = X[start]\n",
    "\n",
    "result, prediction = [], None\n",
    "str_len = 100\n",
    "\n",
    "for i in range(str_len):\n",
    "    prediction = predict_observation_2(\n",
    "        model, np.array([observation]), 32, label_encoder, onehot_encoder, prediction, raw_prediction=True\n",
    "    )\n",
    "    result.append(prediction)    \n",
    "    observation = np.vstack((observation[1:, :], prediction))\n",
    "    \n",
    "result_np = np.array(result).reshape(str_len, vocabulary_size)\n",
    "txt = reverse_encoding(result_np, label_encoder, onehot_encoder)\n",
    "print(seed, txt)"
   ]
  },
  {
   "cell_type": "code",
   "execution_count": 218,
   "metadata": {
    "scrolled": false
   },
   "outputs": [
    {
     "name": "stdout",
     "output_type": "stream",
     "text": [
      "over ice . pour ginger beer over it . squeeze in lime wedge and drop ['it' 'in' '.' '|' 'pour' 'ingredients' 'into' 'cocktail' 'shaker' 'with'\n",
      " 'ice' 'cubes' '.' 'shake' 'well' '.' 'strain' 'into' 'chilled' 'cocktail'\n",
      " 'glass' '.' 'garnish' 'with' 'orange' 'spiral' '.' '|' 'mix' 'tequila'\n",
      " 'syrup' 'and' 'orange' 'juice' 'into' 'cocktail' 'shaker' 'with' 'ice'\n",
      " 'cubes' '.' 'stir' 'well' 'for' '20' 'seconds' '.' 'strain' 'into'\n",
      " 'chilled' 'cocktail' 'glass' '.' '|' 'place' 'lime' 'mixture' 'into' 'old'\n",
      " 'fashioned' 'glass' 'and' 'then' 'add' '3' 'ice' 'directly' 'at' 'bar'\n",
      " 'spoon' '.' 'garnish' 'with' '2' 'over' 'sugar' '.' '|' 'shake' 'of' 'cup'\n",
      " 'ingredients' 'in' 'chilled' 'coffee' 'glass' '.' 'add' 'campari' 'and'\n",
      " 'then' 'shake' 'well' '.' 'strain' 'into' 'old' 'fashioned' 'glass' '.']\n"
     ]
    }
   ],
   "source": [
    "from helpers import *\n",
    "\n",
    "start = np.random.randint(0, len(X)-1)\n",
    "seed = ''\n",
    "\n",
    "for i in range(seq_length):\n",
    "    x = X[start, i].reshape(1, -1)\n",
    "    seed += reverse_encoding(x, label_encoder, onehot_encoder)[0] + ' '\n",
    "    \n",
    "seed = seed.strip()\n",
    "observation = X[start]\n",
    "\n",
    "result, prediction = [], None\n",
    "str_len = 100\n",
    "\n",
    "for i in range(str_len):\n",
    "    prediction = predict_observation_2(\n",
    "        model, np.array([observation]), 32, label_encoder, onehot_encoder, prediction, raw_prediction=True\n",
    "    )\n",
    "    result.append(prediction)    \n",
    "    observation = np.vstack((observation[1:, :], prediction))\n",
    "    \n",
    "result_np = np.array(result).reshape(str_len, vocabulary_size)\n",
    "txt = reverse_encoding(result_np, label_encoder, onehot_encoder)\n",
    "print(seed, txt)"
   ]
  },
  {
   "cell_type": "code",
   "execution_count": 29,
   "metadata": {},
   "outputs": [],
   "source": [
    "model_file = 'model.json'\n",
    "weights_file = 'weights.h5'\n",
    "\n",
    "def save_model_to_json(model, model_file, weights_file):\n",
    "    model_json = model.to_json()\n",
    "    with open(model_file, \"w\") as json_file:\n",
    "        json_file.write(model_json)\n",
    "    model.save_weights(weights_file)\n",
    "    \n",
    "save_model_to_json(model, model_file, weights_file)"
   ]
  }
 ],
 "metadata": {
  "kernelspec": {
   "display_name": "Python 3",
   "language": "python",
   "name": "python3"
  },
  "language_info": {
   "codemirror_mode": {
    "name": "ipython",
    "version": 3
   },
   "file_extension": ".py",
   "mimetype": "text/x-python",
   "name": "python",
   "nbconvert_exporter": "python",
   "pygments_lexer": "ipython3",
   "version": "3.6.3"
  }
 },
 "nbformat": 4,
 "nbformat_minor": 2
}
