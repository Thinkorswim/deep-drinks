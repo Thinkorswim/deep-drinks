{
 "cells": [
  {
   "cell_type": "code",
   "execution_count": 1,
   "metadata": {},
   "outputs": [],
   "source": [
    "%load_ext autoreload\n",
    "%autoreload 2"
   ]
  },
  {
   "cell_type": "code",
   "execution_count": 59,
   "metadata": {},
   "outputs": [],
   "source": [
    "from helpers import *\n",
    "import numpy as np"
   ]
  },
  {
   "cell_type": "code",
   "execution_count": 60,
   "metadata": {},
   "outputs": [
    {
     "name": "stdout",
     "output_type": "stream",
     "text": [
      "There are 1153 recipes in the database.\n"
     ]
    }
   ],
   "source": [
    "data = [ \n",
    "    'data/social_cocktail.json',\n",
    "    'data/liquor.json'\n",
    "]\n",
    "\n",
    "descriptions, names = [], []\n",
    "\n",
    "for d in data:\n",
    "    descriptions += load_data(d, field='description')\n",
    "    names += load_data(d, field='name')\n",
    "\n",
    "print('There are {} recipes in the database.'.format(len(descriptions)))"
   ]
  },
  {
   "cell_type": "code",
   "execution_count": 61,
   "metadata": {},
   "outputs": [],
   "source": [
    "descriptions = [clean_string(x) for x in descriptions]\n",
    "X_desc = flatten_list(descriptions)\n",
    "\n",
    "names = [clean_string(x) for x in names]\n",
    "X_names = flatten_list(names)"
   ]
  },
  {
   "cell_type": "code",
   "execution_count": 65,
   "metadata": {
    "scrolled": false
   },
   "outputs": [
    {
     "name": "stdout",
     "output_type": "stream",
     "text": [
      "There are 31879 words with a vocabulary size of 900\n",
      "The sequence length is 10\n",
      "Observation shape is (31869, 10, 900), label shape is (31869, 900)\n"
     ]
    }
   ],
   "source": [
    "# Limit the vocabulary size\n",
    "vocabulary_size=900\n",
    "X_limit = limit_vocabulary(X_desc, vocabulary_size=vocabulary_size)\n",
    "\n",
    "# One-hot encode the data\n",
    "X_limit_transformed, label_encoder, onehot_encoder = encode_categorical(X_limit)\n",
    "print('There are {} words with a vocabulary size of {}'.format(*X_limit_transformed.shape))\n",
    "\n",
    "# Transform data into sequences and predictions\n",
    "seq_length = 10\n",
    "X, y = sequence_transform(X_limit_transformed, seq_length)\n",
    "print('The sequence length is {}'.format(seq_length))\n",
    "print('Observation shape is {}, label shape is {}'.format(X.shape, y.shape))"
   ]
  },
  {
   "cell_type": "code",
   "execution_count": 66,
   "metadata": {},
   "outputs": [
    {
     "name": "stdout",
     "output_type": "stream",
     "text": [
      "(30275, 10, 900) (30275, 900) (1594, 10, 900) (1594, 900)\n"
     ]
    }
   ],
   "source": [
    "N = X.shape[0]\n",
    "X_train, y_train = X[:int(N*0.95)], y[:int(N*0.95)]\n",
    "X_val, y_val = X[int(N*0.95):], y[int(N*0.95):]\n",
    "\n",
    "print(X_train.shape, y_train.shape, X_val.shape, y_val.shape)"
   ]
  },
  {
   "cell_type": "markdown",
   "metadata": {},
   "source": [
    "### Create the Neural Network Models"
   ]
  },
  {
   "cell_type": "code",
   "execution_count": 67,
   "metadata": {},
   "outputs": [],
   "source": [
    "import numpy as np\n",
    "from keras.models import Sequential\n",
    "from keras.layers import Dense\n",
    "from keras.layers import Dropout\n",
    "from keras.layers import LSTM, GRU\n",
    "from keras.callbacks import ModelCheckpoint\n",
    "from keras.utils import np_utils\n",
    "from sklearn.model_selection import train_test_split"
   ]
  },
  {
   "cell_type": "code",
   "execution_count": 68,
   "metadata": {},
   "outputs": [
    {
     "name": "stdout",
     "output_type": "stream",
     "text": [
      "_________________________________________________________________\n",
      "Layer (type)                 Output Shape              Param #   \n",
      "=================================================================\n",
      "lstm_3 (LSTM)                (None, 10, 256)           1184768   \n",
      "_________________________________________________________________\n",
      "dropout_3 (Dropout)          (None, 10, 256)           0         \n",
      "_________________________________________________________________\n",
      "lstm_4 (LSTM)                (None, 128)               197120    \n",
      "_________________________________________________________________\n",
      "dropout_4 (Dropout)          (None, 128)               0         \n",
      "_________________________________________________________________\n",
      "dense_2 (Dense)              (None, 900)               116100    \n",
      "=================================================================\n",
      "Total params: 1,497,988\n",
      "Trainable params: 1,497,988\n",
      "Non-trainable params: 0\n",
      "_________________________________________________________________\n",
      "None\n"
     ]
    }
   ],
   "source": [
    "model = Sequential()\n",
    "# model.add(Dense(512, input_dim=X.shape[1], activation='relu'))\n",
    "# model.add(Dense(256, input_dim=X.shape[1], activation='relu'))\n",
    "# model.add(Dense(128, activation='relu'))\n",
    "# model.add(Dense(64, activation='relu'))\n",
    "\n",
    "model.add(LSTM(256, input_shape=(X.shape[1], X.shape[2]), activation='relu', return_sequences=True))\n",
    "model.add(Dropout(0.2))\n",
    "model.add(LSTM(128, input_shape=(X.shape[1], X.shape[2]), activation='relu'))\n",
    "model.add(Dropout(0.2))\n",
    "model.add(Dense(y.shape[1], activation='softmax'))\n",
    "\n",
    "model.compile(loss='categorical_crossentropy', metrics=['categorical_accuracy'], optimizer='adam')\n",
    "print(model.summary())"
   ]
  },
  {
   "cell_type": "code",
   "execution_count": null,
   "metadata": {
    "scrolled": false
   },
   "outputs": [
    {
     "name": "stdout",
     "output_type": "stream",
     "text": [
      "Train on 30275 samples, validate on 1594 samples\n",
      "Epoch 1/1\n",
      " 7968/30275 [======>.......................] - ETA: 982s - loss: 4.8859 - categorical_accuracy: 0.1020"
     ]
    }
   ],
   "source": [
    "# Create the model\n",
    "batch_size = 32\n",
    "model.fit(X_train, y_train, validation_data=(X_val, y_val), epochs=1, batch_size=batch_size)"
   ]
  },
  {
   "cell_type": "code",
   "execution_count": 58,
   "metadata": {},
   "outputs": [
    {
     "name": "stdout",
     "output_type": "stream",
     "text": [
      "of lemon bitters and serve . fill rocks glass with ['ice' '.' 'add' 'all' 'ingredients' 'to' 'shaker' 'and' 'fill' 'with'\n",
      " 'ice' '.' 'shake' 'and' 'strain' 'into' 'chilled' 'cocktail' 'glass' '.'\n",
      " 'garnish' 'with' 'lemon' 'twist' '.' 'add' 'all' 'ingredients' 'to'\n",
      " 'mixing' 'tin' 'and' 'fill' 'with' 'ice' '.' 'shake' 'and' 'strain' 'into'\n",
      " 'chilled' 'cocktail' 'glass' '.' 'garnish' 'with' 'lemon' 'twist' '.'\n",
      " 'add' 'all' 'ingredients' 'to' 'mixing' 'tin' 'and' 'fill' 'with' 'ice'\n",
      " '.' 'shake' 'and' 'strain' 'into' 'chilled' 'cocktail' 'glass' '.'\n",
      " 'garnish' 'with' 'lemon' 'twist' '.' 'add' 'all' 'ingredients' 'to'\n",
      " 'mixing' 'tin' 'and' 'fill' 'with' 'ice' '.' 'shake' 'and' 'strain' 'into'\n",
      " 'chilled' 'cocktail' 'glass' '.' 'garnish' 'with' 'lemon' 'twist' '.'\n",
      " 'add' 'all' 'ingredients']\n"
     ]
    }
   ],
   "source": [
    "start = np.random.randint(0, len(X)-1)\n",
    "seed = ''\n",
    "\n",
    "for i in range(seq_length):\n",
    "    x = X[start, i].reshape(1, -1)\n",
    "    seed += reverse_encoding(x, label_encoder, onehot_encoder)[0] + ' '\n",
    "    \n",
    "seed = seed.strip()\n",
    "observation = X[start]\n",
    "\n",
    "result = []\n",
    "str_len = 100\n",
    "\n",
    "for i in range(str_len):\n",
    "    prediction = predict_observation(\n",
    "        model, np.array([observation]), 32, label_encoder, onehot_encoder, raw_prediction=True\n",
    "    )\n",
    "    result.append(prediction)    \n",
    "    observation = np.vstack((observation[1:, :], prediction))\n",
    "    \n",
    "result_np = np.array(result).reshape(str_len, vocabulary_size)\n",
    "txt = reverse_encoding(result_np, label_encoder, onehot_encoder)\n",
    "print(seed, txt)"
   ]
  },
  {
   "cell_type": "code",
   "execution_count": 29,
   "metadata": {},
   "outputs": [],
   "source": [
    "model_file = 'model.json'\n",
    "weights_file = 'weights.h5'\n",
    "\n",
    "def save_model_to_json(model, model_file, weights_file):\n",
    "    model_json = model.to_json()\n",
    "    with open(model_file, \"w\") as json_file:\n",
    "        json_file.write(model_json)\n",
    "    model.save_weights(weights_file)\n",
    "    \n",
    "save_model_to_json(model, model_file, weights_file)"
   ]
  }
 ],
 "metadata": {
  "kernelspec": {
   "display_name": "Python 3",
   "language": "python",
   "name": "python3"
  },
  "language_info": {
   "codemirror_mode": {
    "name": "ipython",
    "version": 3
   },
   "file_extension": ".py",
   "mimetype": "text/x-python",
   "name": "python",
   "nbconvert_exporter": "python",
   "pygments_lexer": "ipython3",
   "version": "3.6.3"
  }
 },
 "nbformat": 4,
 "nbformat_minor": 2
}
