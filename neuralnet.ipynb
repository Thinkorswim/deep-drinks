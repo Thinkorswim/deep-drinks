{
 "cells": [
  {
   "cell_type": "code",
   "execution_count": 1,
   "metadata": {},
   "outputs": [],
   "source": [
    "%load_ext autoreload\n",
    "%autoreload 2"
   ]
  },
  {
   "cell_type": "code",
   "execution_count": 121,
   "metadata": {},
   "outputs": [],
   "source": [
    "from helpers import *\n",
    "import numpy as np"
   ]
  },
  {
   "cell_type": "code",
   "execution_count": 122,
   "metadata": {},
   "outputs": [
    {
     "name": "stdout",
     "output_type": "stream",
     "text": [
      "There are 1153 recipes in the database.\n"
     ]
    }
   ],
   "source": [
    "data = [ \n",
    "    'data/social_cocktail.json',\n",
    "    'data/liquor.json'\n",
    "]\n",
    "\n",
    "descriptions, names = [], []\n",
    "\n",
    "for d in data:\n",
    "    descriptions += load_data(d, field='description')\n",
    "    names += load_data(d, field='name')\n",
    "\n",
    "print('There are {} recipes in the database.'.format(len(descriptions)))"
   ]
  },
  {
   "cell_type": "code",
   "execution_count": 123,
   "metadata": {},
   "outputs": [],
   "source": [
    "descriptions = [clean_string(x) for x in descriptions]\n",
    "X_desc = flatten_list(descriptions)\n",
    "\n",
    "names = [clean_string(x) for x in names]\n",
    "X_names = flatten_list(names)"
   ]
  },
  {
   "cell_type": "code",
   "execution_count": 125,
   "metadata": {},
   "outputs": [
    {
     "name": "stdout",
     "output_type": "stream",
     "text": [
      "There are 18607 words with a vocabulary size of 100\n",
      "The sequence length is 10\n",
      "Observation shape is (18596, 10, 100), label shape is (18596, 100)\n"
     ]
    }
   ],
   "source": [
    "# Limit the vocabulary size\n",
    "vocabulary_size=100\n",
    "X_limit = limit_vocabulary(X_desc, vocabulary_size=vocabulary_size)\n",
    "\n",
    "# One-hot encode the data\n",
    "X_limit_transformed, label_encoder, onehot_encoder = encode_categorical(X_limit)\n",
    "print('There are {} words with a vocabulary size of {}'.format(*X_limit_transformed.shape))\n",
    "\n",
    "# Transform data into sequences and predictions\n",
    "seq_length = 10\n",
    "X, y = sequence_transform(X_limit_transformed, seq_length)\n",
    "print('The sequence length is {}'.format(seq_length))\n",
    "print('Observation shape is {}, label shape is {}'.format(X.shape, y.shape))"
   ]
  },
  {
   "cell_type": "code",
   "execution_count": 126,
   "metadata": {},
   "outputs": [
    {
     "name": "stdout",
     "output_type": "stream",
     "text": [
      "(17666, 10, 100) (17666, 100) (930, 10, 100) (930, 100)\n"
     ]
    }
   ],
   "source": [
    "N = X.shape[0]\n",
    "X_train, y_train = X[:int(N*0.95)], y[:int(N*0.95)]\n",
    "X_val, y_val = X[int(N*0.95):], y[int(N*0.95):]\n",
    "\n",
    "print(X_train.shape, y_train.shape, X_val.shape, y_val.shape)"
   ]
  },
  {
   "cell_type": "markdown",
   "metadata": {},
   "source": [
    "### Create the Neural Network Models"
   ]
  },
  {
   "cell_type": "code",
   "execution_count": 12,
   "metadata": {},
   "outputs": [],
   "source": [
    "import numpy as np\n",
    "from keras.models import Sequential\n",
    "from keras.layers import Dense\n",
    "from keras.layers import Dropout\n",
    "from keras.layers import LSTM, GRU\n",
    "from keras.callbacks import ModelCheckpoint\n",
    "from keras.utils import np_utils\n",
    "from sklearn.model_selection import train_test_split"
   ]
  },
  {
   "cell_type": "code",
   "execution_count": 85,
   "metadata": {},
   "outputs": [
    {
     "name": "stdout",
     "output_type": "stream",
     "text": [
      "_________________________________________________________________\n",
      "Layer (type)                 Output Shape              Param #   \n",
      "=================================================================\n",
      "lstm_6 (LSTM)                (None, 512)               1255424   \n",
      "_________________________________________________________________\n",
      "dropout_11 (Dropout)         (None, 512)               0         \n",
      "_________________________________________________________________\n",
      "dense_11 (Dense)             (None, 100)               51300     \n",
      "=================================================================\n",
      "Total params: 1,306,724\n",
      "Trainable params: 1,306,724\n",
      "Non-trainable params: 0\n",
      "_________________________________________________________________\n",
      "None\n"
     ]
    }
   ],
   "source": [
    "model = Sequential()\n",
    "# model.add(Dense(512, input_dim=X.shape[1], activation='relu'))\n",
    "# model.add(Dense(256, input_dim=X.shape[1], activation='relu'))\n",
    "# model.add(Dense(128, activation='relu'))\n",
    "# model.add(Dense(64, activation='relu'))\n",
    "\n",
    "model.add(LSTM(512, input_shape=(X.shape[1], X.shape[2]), activation='relu'))\n",
    "model.add(Dropout(0.4))\n",
    "model.add(Dense(y.shape[1], activation='softmax'))\n",
    "model.compile(loss='categorical_crossentropy', metrics=['categorical_accuracy'], optimizer='adam')\n",
    "print(model.summary())"
   ]
  },
  {
   "cell_type": "code",
   "execution_count": 86,
   "metadata": {
    "scrolled": false
   },
   "outputs": [
    {
     "name": "stdout",
     "output_type": "stream",
     "text": [
      "Train on 17666 samples, validate on 930 samples\n",
      "Epoch 1/7\n",
      "17666/17666 [==============================] - 130s - loss: 3.8170 - categorical_accuracy: 0.1390 - val_loss: 3.6740 - val_categorical_accuracy: 0.1645\n",
      "Epoch 2/7\n",
      "17666/17666 [==============================] - 174s - loss: 3.1824 - categorical_accuracy: 0.2602 - val_loss: 3.3909 - val_categorical_accuracy: 0.2151\n",
      "Epoch 3/7\n",
      "17666/17666 [==============================] - 171s - loss: 2.9204 - categorical_accuracy: 0.3169 - val_loss: 3.2798 - val_categorical_accuracy: 0.2495\n",
      "Epoch 4/7\n",
      "17666/17666 [==============================] - 170s - loss: 2.7305 - categorical_accuracy: 0.3508 - val_loss: 3.2522 - val_categorical_accuracy: 0.2624\n",
      "Epoch 5/7\n",
      "17666/17666 [==============================] - 185s - loss: 2.6085 - categorical_accuracy: 0.3720 - val_loss: 3.1894 - val_categorical_accuracy: 0.2645\n",
      "Epoch 6/7\n",
      "17666/17666 [==============================] - 193s - loss: 2.4953 - categorical_accuracy: 0.3934 - val_loss: 3.1635 - val_categorical_accuracy: 0.2613\n",
      "Epoch 7/7\n",
      "17666/17666 [==============================] - 186s - loss: 2.3917 - categorical_accuracy: 0.4086 - val_loss: 3.1904 - val_categorical_accuracy: 0.2849\n"
     ]
    },
    {
     "data": {
      "text/plain": [
       "<keras.callbacks.History at 0x7fb2cad8cac8>"
      ]
     },
     "execution_count": 86,
     "metadata": {},
     "output_type": "execute_result"
    }
   ],
   "source": [
    "# Create the model\n",
    "batch_size = 32\n",
    "model.fit(X_train, y_train, validation_data=(X_val, y_val), epochs=7, batch_size=batch_size)"
   ]
  },
  {
   "cell_type": "code",
   "execution_count": 115,
   "metadata": {},
   "outputs": [
    {
     "name": "stdout",
     "output_type": "stream",
     "text": [
      "into shot glass float rum on top it over of\n"
     ]
    }
   ],
   "source": [
    "start = np.random.randint(0, len(X)-1)\n",
    "seed = ''\n",
    "\n",
    "for i in range(seq_length):\n",
    "    x = X[start, i].reshape(1, -1)\n",
    "    seed += reverse_encoding(x, label_encoder, onehot_encoder)[0] + ' '\n",
    "    \n",
    "seed = seed.strip()\n",
    "observation = X[start]\n",
    "print(seed)"
   ]
  },
  {
   "cell_type": "code",
   "execution_count": 118,
   "metadata": {},
   "outputs": [
    {
     "name": "stdout",
     "output_type": "stream",
     "text": [
      "into shot glass float rum on top it over of ['chilled' 'glass' 'garnish' 'twist' 'ingredients' 'cocktail' 'ice' 'ice'\n",
      " 'cocktail' 'glass' 'garnish' 'slice' 'serve' 'ingredients' 'cocktail'\n",
      " 'ice' 'highball' 'ice' 'stir' 'garnish']\n"
     ]
    }
   ],
   "source": [
    "result = []\n",
    "\n",
    "for i in range(20):\n",
    "    prediction = predict_observation(\n",
    "        model, np.array([observation]), 32, label_encoder, onehot_encoder, raw_prediction=True\n",
    "    )\n",
    "    result.append(prediction)    \n",
    "    observation = np.vstack((observation[1:, :], prediction))\n",
    "    \n",
    "result_np = np.array(result).reshape(20, vocabulary_size)\n",
    "txt = reverse_encoding(result_np, label_encoder, onehot_encoder)\n",
    "print(seed, txt)"
   ]
  }
 ],
 "metadata": {
  "kernelspec": {
   "display_name": "Python 3",
   "language": "python",
   "name": "python3"
  },
  "language_info": {
   "codemirror_mode": {
    "name": "ipython",
    "version": 3
   },
   "file_extension": ".py",
   "mimetype": "text/x-python",
   "name": "python",
   "nbconvert_exporter": "python",
   "pygments_lexer": "ipython3",
   "version": "3.6.3"
  }
 },
 "nbformat": 4,
 "nbformat_minor": 2
}
