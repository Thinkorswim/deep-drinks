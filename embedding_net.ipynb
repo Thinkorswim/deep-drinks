{
 "cells": [
  {
   "cell_type": "code",
   "execution_count": 1,
   "metadata": {},
   "outputs": [],
   "source": [
    "%load_ext autoreload\n",
    "%autoreload 2"
   ]
  },
  {
   "cell_type": "code",
   "execution_count": 10,
   "metadata": {},
   "outputs": [],
   "source": [
    "from helpers import *\n",
    "import numpy as np\n",
    "\n",
    "from keras.preprocessing.text import Tokenizer"
   ]
  },
  {
   "cell_type": "code",
   "execution_count": 70,
   "metadata": {},
   "outputs": [
    {
     "name": "stdout",
     "output_type": "stream",
     "text": [
      "There are 3347 recipes in the database.\n"
     ]
    }
   ],
   "source": [
    "data = [ \n",
    "    'data/liquor.json',\n",
    "    'data/social_cocktail.json',\n",
    "    'data/serious_eats.json',\n",
    "    'data/live_in_style.json',\n",
    "    'data/all_recipes.json'\n",
    "]\n",
    "\n",
    "descriptions, ingredients, names = [], [], []\n",
    "\n",
    "for d in data:\n",
    "    descriptions += load_data(d, field='description')\n",
    "    ingredients += load_data(d, field='ingredients')\n",
    "    names += load_data(d, field='name')\n",
    "\n",
    "assert len(descriptions) == len(ingredients)\n",
    "\n",
    "recipes = [x + ' # ' + y for x, y in zip(ingredients, descriptions)]    \n",
    "print('There are {} recipes in the database.'.format(len(recipes)))"
   ]
  },
  {
   "cell_type": "code",
   "execution_count": 71,
   "metadata": {},
   "outputs": [],
   "source": [
    "# Perform filtering of input text\n",
    "remove_unicode = lambda x: x.encode('ascii', errors='ignore').decode().strip()\n",
    "\n",
    "filter_words = ['a', 'an', 'the', 'fluid', '1', 'ounce', 'ounces']\n",
    "\n",
    "recipes = [remove_unicode(x) for x in recipes]\n",
    "recipes = [' '.join([y for y in x.split() if y not in filter_words]) for x in recipes]\n",
    "recipes = [x.replace('.', ' . ') for x in recipes]\n",
    "recipes = [x + ' |' for x in recipes]\n",
    "recipes = [x.replace('  ', ' ') for x in recipes]\n",
    "\n",
    "np.random.shuffle(recipes) # Shuffle recipes from different websites"
   ]
  },
  {
   "cell_type": "code",
   "execution_count": 72,
   "metadata": {},
   "outputs": [
    {
     "name": "stdout",
     "output_type": "stream",
     "text": [
      "Found 4464 unique tokens.\n",
      "Vocabulary size is 4465.\n"
     ]
    }
   ],
   "source": [
    "SEQUENCE_LENGTH = 50\n",
    "EMBEDDING_DIM = 300\n",
    "VOCABULARY_SIZE = None\n",
    "\n",
    "tokenizer = Tokenizer(\n",
    "    num_words=VOCABULARY_SIZE,\n",
    "    filters='!\"$%&()*+,-:;<=>?@[\\\\]^_`{}~\\t\\n'\n",
    ")\n",
    "tokenizer.fit_on_texts(recipes)\n",
    "sequences = tokenizer.texts_to_sequences(recipes)\n",
    "\n",
    "word_index = tokenizer.word_index\n",
    "print('Found {} unique tokens.'.format(len(word_index)))\n",
    "\n",
    "VOCABULARY_SIZE = len(word_index) + 1 if VOCABULARY_SIZE is None else VOCABULARY_SIZE\n",
    "print('Vocabulary size is {}.'.format(VOCABULARY_SIZE))"
   ]
  },
  {
   "cell_type": "code",
   "execution_count": null,
   "metadata": {},
   "outputs": [],
   "source": [
    "glove_file = 'data/glove.42B.300d.txt'\n",
    "embedding_matrix = get_embedding_matrix(glove_file, word_index, VOCABULARY_SIZE, EMBEDDING_DIM)"
   ]
  },
  {
   "cell_type": "code",
   "execution_count": 74,
   "metadata": {},
   "outputs": [
    {
     "name": "stdout",
     "output_type": "stream",
     "text": [
      "The sequence length is 50\n",
      "Observation shape is (218640, 50), label shape is (218640,)\n"
     ]
    }
   ],
   "source": [
    "X_recipes = make_flat(sequences)\n",
    "\n",
    "# Transform data into sequences and predictions\n",
    "X, y = sequence_transform(X_recipes, SEQUENCE_LENGTH)\n",
    "\n",
    "print('The sequence length is {}'.format(SEQUENCE_LENGTH))\n",
    "print('Observation shape is {}, label shape is {}'.format(X.shape, y.shape))"
   ]
  },
  {
   "cell_type": "markdown",
   "metadata": {},
   "source": [
    "### Create the Neural Network Models"
   ]
  },
  {
   "cell_type": "code",
   "execution_count": 24,
   "metadata": {},
   "outputs": [],
   "source": [
    "import numpy as np\n",
    "from keras.models import Sequential\n",
    "from keras.layers import Dense, Dropout, LSTM, GRU, Embedding\n",
    "from keras.callbacks import ModelCheckpoint\n",
    "from keras.utils import np_utils\n",
    "from sklearn.model_selection import train_test_split"
   ]
  },
  {
   "cell_type": "code",
   "execution_count": 77,
   "metadata": {},
   "outputs": [
    {
     "name": "stdout",
     "output_type": "stream",
     "text": [
      "_________________________________________________________________\n",
      "Layer (type)                 Output Shape              Param #   \n",
      "=================================================================\n",
      "embedding_6 (Embedding)      (None, 50, 300)           1339500   \n",
      "_________________________________________________________________\n",
      "gru_9 (GRU)                  (None, 50, 256)           427776    \n",
      "_________________________________________________________________\n",
      "dropout_9 (Dropout)          (None, 50, 256)           0         \n",
      "_________________________________________________________________\n",
      "gru_10 (GRU)                 (None, 256)               393984    \n",
      "_________________________________________________________________\n",
      "dropout_10 (Dropout)         (None, 256)               0         \n",
      "_________________________________________________________________\n",
      "dense_5 (Dense)              (None, 4466)              1147762   \n",
      "=================================================================\n",
      "Total params: 3,309,022\n",
      "Trainable params: 1,969,522\n",
      "Non-trainable params: 1,339,500\n",
      "_________________________________________________________________\n",
      "None\n"
     ]
    }
   ],
   "source": [
    "embedding_layer = Embedding(len(word_index) + 1,\n",
    "                            EMBEDDING_DIM,\n",
    "                            weights=[embedding_matrix],\n",
    "                            input_length=SEQUENCE_LENGTH,\n",
    "                            trainable=False)\n",
    "\n",
    "\n",
    "model = Sequential()\n",
    "model.add(embedding_layer)\n",
    "model.add(GRU(256, activation='relu', return_sequences=True))\n",
    "model.add(Dropout(0.2))\n",
    "model.add(GRU(256, activation='relu'))\n",
    "model.add(Dropout(0.2))\n",
    "model.add(Dense(units=VOCABULARY_SIZE + 1, activation='softmax'))\n",
    "\n",
    "model.compile(loss='sparse_categorical_crossentropy', metrics=['accuracy'], optimizer='adam')\n",
    "print(model.summary())"
   ]
  },
  {
   "cell_type": "code",
   "execution_count": null,
   "metadata": {
    "scrolled": false
   },
   "outputs": [
    {
     "name": "stdout",
     "output_type": "stream",
     "text": [
      "Train on 207708 samples, validate on 10932 samples\n",
      "Epoch 1/1\n"
     ]
    }
   ],
   "source": [
    "# Create the model\n",
    "batch_size = 32\n",
    "model.fit(X, y, validation_split=0.05, shuffle=False, epochs=1, batch_size=batch_size);"
   ]
  },
  {
   "cell_type": "code",
   "execution_count": 58,
   "metadata": {},
   "outputs": [
    {
     "name": "stdout",
     "output_type": "stream",
     "text": [
      "Seed is: with mint sprigs lemon wedge or maraschino cherries . you can also add some soda into mix as alternative recipe . | 10 12 leaves of fresh mint removed from stems 1 teaspoon sugar or 1 2 tsp simple syrup to taste 2 ounces cognac chilled brut champagne or other\n",
      "\n",
      "Output is: sparkling wine # fill cocktail shaker with ice . add gin and sweet vermouth . shake well and strain into chilled cocktail glass . garnish with lemon twist . | 1 cup ice cubes 1 1 . 5 fluid ounce jigger vodka 1 fluid ounce vodka 1 fluid ounce vodka 1 fluid ounce vodka 1 fluid ounce vodka 1 fluid ounce vodka 1 fluid ounce vodka 1 fluid ounce vodka 1 fluid ounce vodka 1 fluid ounce vodka 1 fluid ounce vodka 1 fluid ounce vodka 1 fluid ounce sweet vermouth 1 fluid ounce orange juice 1 fluid ounce orange\n"
     ]
    }
   ],
   "source": [
    "from helpers import *\n",
    "\n",
    "start = np.random.randint(0, len(X)-1)    \n",
    "observation = X[start]\n",
    "seed = ' '.join(decode_label(observation, tokenizer))\n",
    "\n",
    "result, prediction = [], None\n",
    "str_len = 100\n",
    "\n",
    "for i in range(str_len):\n",
    "    prediction = language_model_sampling(\n",
    "            model, np.array([observation]), batch_size, raw_prediction=False, c=VOCABULARY_SIZE\n",
    "    )\n",
    "    result.append(prediction)    \n",
    "    observation = np.append(observation[1:], prediction)\n",
    "    \n",
    "output = ' '.join(decode_label(result, tokenizer))\n",
    "print('Seed is: {}\\n\\nOutput is: {}'.format(seed, output))"
   ]
  },
  {
   "cell_type": "code",
   "execution_count": null,
   "metadata": {},
   "outputs": [],
   "source": [
    "model_file = 'model.json'\n",
    "weights_file = 'weights.h5'\n",
    "\n",
    "def save_model_to_json(model, model_file, weights_file):\n",
    "    model_json = model.to_json()\n",
    "    with open(model_file, \"w\") as json_file:\n",
    "        json_file.write(model_json)\n",
    "    model.save_weights(weights_file)\n",
    "    \n",
    "save_model_to_json(model, model_file, weights_file)"
   ]
  }
 ],
 "metadata": {
  "kernelspec": {
   "display_name": "Python 3",
   "language": "python",
   "name": "python3"
  },
  "language_info": {
   "codemirror_mode": {
    "name": "ipython",
    "version": 3
   },
   "file_extension": ".py",
   "mimetype": "text/x-python",
   "name": "python",
   "nbconvert_exporter": "python",
   "pygments_lexer": "ipython3",
   "version": "3.6.3"
  }
 },
 "nbformat": 4,
 "nbformat_minor": 2
}
